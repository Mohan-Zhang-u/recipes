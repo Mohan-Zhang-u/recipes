{
 "cells": [
  {
   "cell_type": "markdown",
   "metadata": {},
   "source": [
    "# Create a Weaviate Collection\n",
    "\n",
    "## This code creates a `WebChunk` schema with the Weaviate Python v4 client!\n",
    "\n",
    "`WebChunk` has\n",
    "- Cohere embeddings\n",
    "- 2 properties, `content`, and `weblink`. Both are text properties with all indexing enabled by default (HNSW-PQ and Full-text Search)."
   ]
  },
  {
   "cell_type": "code",
   "execution_count": null,
   "metadata": {},
   "outputs": [],
   "source": [
    "import weaviate\n",
    "import weaviate.classes.config as wvcc\n",
    "\n",
    "weaviate_client = weaviate.connect_to_local()\n",
    "\n",
    "collection = weaviate_client.collections.create(\n",
    "    name=\"WebChunk\",\n",
    "    vectorizer_config=wvcc.Configure.Vectorizer.text2vec_cohere\n",
    "    (\n",
    "        model=\"embed-multilingual-v3.0\"\n",
    "    ),\n",
    "    properties=[\n",
    "            wvcc.Property(name=\"content\", data_type=wvcc.DataType.TEXT),\n",
    "            wvcc.Property(name=\"weblink\", data_type=wvcc.DataType.TEXT, skip_vectorization=True),\n",
    "      ]\n",
    ")"
   ]
  }
 ],
 "metadata": {
  "language_info": {
   "name": "python"
  }
 },
 "nbformat": 4,
 "nbformat_minor": 2
}
